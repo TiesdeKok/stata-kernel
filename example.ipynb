{
 "cells": [
  {
   "cell_type": "code",
   "execution_count": 1,
   "metadata": {
    "collapsed": false
   },
   "outputs": [
    {
     "name": "stdout",
     "output_type": "stream",
     "text": [
      ". sysuse auto\n",
      "(1978 Automobile Data)\n",
      "\n"
     ]
    }
   ],
   "source": [
    "sysuse auto"
   ]
  },
  {
   "cell_type": "code",
   "execution_count": 2,
   "metadata": {
    "collapsed": false
   },
   "outputs": [
    {
     "name": "stdout",
     "output_type": "stream",
     "text": [
      ". forv i=1(1)1e7 {\n",
      "  2.     if mod(`i', 1e5) == 0 {\n",
      "  3.         di %7.0f `i'\n",
      "  4.     }\n",
      "  5. }\n",
      " 100000\n",
      " 200000\n",
      " 300000\n",
      " 400000\n",
      " 500000\n",
      " 600000\n",
      "--Break--\n",
      "r(1);\n",
      "\n"
     ]
    }
   ],
   "source": [
    "forv i=1(1)1e7 {\n",
    "    if mod(`i', 1e5) == 0 {\n",
    "        di %7.0f `i'\n",
    "    }\n",
    "}"
   ]
  },
  {
   "cell_type": "code",
   "execution_count": 3,
   "metadata": {
    "collapsed": false
   },
   "outputs": [
    {
     "name": "stdout",
     "output_type": "stream",
     "text": [
      ". summ  weight mpg\n",
      "\n",
      "    Variable |       Obs        Mean    Std. Dev.       Min        Max\n",
      "-------------+--------------------------------------------------------\n",
      "      weight |        74    3019.459    777.1936       1760       4840\n",
      "         mpg |        74     21.2973    5.785503         12         41\n",
      "\n"
     ]
    }
   ],
   "source": [
    "summ \\\\\\\n",
    " weight mpg "
   ]
  },
  {
   "cell_type": "code",
   "execution_count": 4,
   "metadata": {
    "collapsed": false
   },
   "outputs": [
    {
     "name": "stdout",
     "output_type": "stream",
     "text": [
      ". summ\n",
      "\n",
      "    Variable |       Obs        Mean    Std. Dev.       Min        Max\n",
      "-------------+--------------------------------------------------------\n",
      "        make |         0\n",
      "       price |        74    6165.257    2949.496       3291      15906\n",
      "         mpg |        74     21.2973    5.785503         12         41\n",
      "       rep78 |        69    3.405797    .9899323          1          5\n",
      "    headroom |        74    2.993243    .8459948        1.5          5\n",
      "-------------+--------------------------------------------------------\n",
      "       trunk |        74    13.75676    4.277404          5         23\n",
      "      weight |        74    3019.459    777.1936       1760       4840\n",
      "      length |        74    187.9324    22.26634        142        233\n",
      "        turn |        74    39.64865    4.399354         31         51\n",
      "displacement |        74    197.2973    91.83722         79        425\n",
      "-------------+--------------------------------------------------------\n",
      "  gear_ratio |        74    3.014865    .4562871       2.19       3.89\n",
      "     foreign |        74    .2972973    .4601885          0          1\n",
      "\n"
     ]
    }
   ],
   "source": [
    "summ"
   ]
  },
  {
   "cell_type": "code",
   "execution_count": 8,
   "metadata": {
    "collapsed": false
   },
   "outputs": [
    {
     "name": "stdout",
     "output_type": "stream",
     "text": [
      ". mata\n",
      "------------------------------------------------- mata (type end to exit) -------\n",
      ": for (i=1; i<10; i++) {\n",
      ">     i\n",
      "> }\n",
      "  1\n",
      "  2\n",
      "  3\n",
      "  4\n",
      "  5\n",
      "  6\n",
      "  7\n",
      "  8\n",
      "  9\n",
      "\n",
      ": end\n",
      "---------------------------------------------------------------------------------\n",
      "\n"
     ]
    }
   ],
   "source": [
    "%%mata\n",
    "\n",
    "for (i=1; i<10; i++) {\n",
    "    i\n",
    "}"
   ]
  }
 ],
 "metadata": {
  "kernelspec": {
   "display_name": "Stata",
   "language": "stata",
   "name": "stata"
  },
  "language_info": {
   "file_extension": "do",
   "mimetype": "text/x-stata",
   "name": "stata"
  }
 },
 "nbformat": 4,
 "nbformat_minor": 0
}
